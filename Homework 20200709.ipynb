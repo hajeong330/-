{
 "cells": [
  {
   "cell_type": "markdown",
   "metadata": {},
   "source": [
    "# Homework 2020-07-09"
   ]
  },
  {
   "cell_type": "markdown",
   "metadata": {},
   "source": [
    "1. 외국인 남자/여자 비율을 내림차순으로 정렬\n",
    "2. 한국인 남자/여자 를 내림차순으로 정렬\n",
    "3. 한국인 남자비율/여자비율을 내림차순으로 정렬\n",
    "\n",
    "비율 구할 때 총 인구수로!"
   ]
  },
  {
   "cell_type": "code",
   "execution_count": 1,
   "metadata": {},
   "outputs": [],
   "source": [
    "import pandas as pd"
   ]
  },
  {
   "cell_type": "code",
   "execution_count": 2,
   "metadata": {},
   "outputs": [],
   "source": [
    "pop_Seoul = pd.read_excel('./data/01. population_in_Seoul.xls', \n",
    "                          usecols =  'B, G, H, I, J, K, L',\n",
    "                          encoding='utf-8')"
   ]
  },
  {
   "cell_type": "code",
   "execution_count": 3,
   "metadata": {},
   "outputs": [
    {
     "data": {
      "text/html": [
       "<div>\n",
       "<style scoped>\n",
       "    .dataframe tbody tr th:only-of-type {\n",
       "        vertical-align: middle;\n",
       "    }\n",
       "\n",
       "    .dataframe tbody tr th {\n",
       "        vertical-align: top;\n",
       "    }\n",
       "\n",
       "    .dataframe thead th {\n",
       "        text-align: right;\n",
       "    }\n",
       "</style>\n",
       "<table border=\"1\" class=\"dataframe\">\n",
       "  <thead>\n",
       "    <tr style=\"text-align: right;\">\n",
       "      <th></th>\n",
       "      <th>자치구</th>\n",
       "      <th>인구.3</th>\n",
       "      <th>인구.4</th>\n",
       "      <th>인구.5</th>\n",
       "      <th>인구.6</th>\n",
       "      <th>인구.7</th>\n",
       "      <th>인구.8</th>\n",
       "    </tr>\n",
       "  </thead>\n",
       "  <tbody>\n",
       "    <tr>\n",
       "      <th>0</th>\n",
       "      <td>자치구</td>\n",
       "      <td>한국인</td>\n",
       "      <td>한국인</td>\n",
       "      <td>한국인</td>\n",
       "      <td>등록외국인</td>\n",
       "      <td>등록외국인</td>\n",
       "      <td>등록외국인</td>\n",
       "    </tr>\n",
       "    <tr>\n",
       "      <th>1</th>\n",
       "      <td>자치구</td>\n",
       "      <td>계</td>\n",
       "      <td>남자</td>\n",
       "      <td>여자</td>\n",
       "      <td>계</td>\n",
       "      <td>남자</td>\n",
       "      <td>여자</td>\n",
       "    </tr>\n",
       "    <tr>\n",
       "      <th>2</th>\n",
       "      <td>합계</td>\n",
       "      <td>9926968</td>\n",
       "      <td>4871560</td>\n",
       "      <td>5055408</td>\n",
       "      <td>270636</td>\n",
       "      <td>128445</td>\n",
       "      <td>142191</td>\n",
       "    </tr>\n",
       "    <tr>\n",
       "      <th>3</th>\n",
       "      <td>종로구</td>\n",
       "      <td>153589</td>\n",
       "      <td>75611</td>\n",
       "      <td>77978</td>\n",
       "      <td>9231</td>\n",
       "      <td>4064</td>\n",
       "      <td>5167</td>\n",
       "    </tr>\n",
       "    <tr>\n",
       "      <th>4</th>\n",
       "      <td>중구</td>\n",
       "      <td>124312</td>\n",
       "      <td>61656</td>\n",
       "      <td>62656</td>\n",
       "      <td>8928</td>\n",
       "      <td>4134</td>\n",
       "      <td>4794</td>\n",
       "    </tr>\n",
       "  </tbody>\n",
       "</table>\n",
       "</div>"
      ],
      "text/plain": [
       "   자치구     인구.3     인구.4     인구.5    인구.6    인구.7    인구.8\n",
       "0  자치구      한국인      한국인      한국인   등록외국인   등록외국인   등록외국인\n",
       "1  자치구        계       남자       여자       계      남자      여자\n",
       "2   합계  9926968  4871560  5055408  270636  128445  142191\n",
       "3  종로구   153589    75611    77978    9231    4064    5167\n",
       "4   중구   124312    61656    62656    8928    4134    4794"
      ]
     },
     "execution_count": 3,
     "metadata": {},
     "output_type": "execute_result"
    }
   ],
   "source": [
    "pop_Seoul.head()"
   ]
  },
  {
   "cell_type": "code",
   "execution_count": 4,
   "metadata": {},
   "outputs": [],
   "source": [
    "pop_Seoul_columns = pop_Seoul.columns"
   ]
  },
  {
   "cell_type": "code",
   "execution_count": 5,
   "metadata": {},
   "outputs": [
    {
     "data": {
      "text/plain": [
       "Index(['자치구', '인구.3', '인구.4', '인구.5', '인구.6', '인구.7', '인구.8'], dtype='object')"
      ]
     },
     "execution_count": 5,
     "metadata": {},
     "output_type": "execute_result"
    }
   ],
   "source": [
    "pop_Seoul_columns"
   ]
  },
  {
   "cell_type": "code",
   "execution_count": 6,
   "metadata": {},
   "outputs": [],
   "source": [
    "pop_Seoul.rename(columns = {\n",
    "    pop_Seoul_columns[0] : '구별',\n",
    "    pop_Seoul_columns[1] : '한국인',\n",
    "    pop_Seoul_columns[2] : '한국인남자',\n",
    "    pop_Seoul_columns[3] : '한국인여자',\n",
    "    pop_Seoul_columns[4] : '외국인',\n",
    "    pop_Seoul_columns[5] : '외국인남자',\n",
    "    pop_Seoul_columns[6] : '외국인여자'\n",
    "}, inplace = True)"
   ]
  },
  {
   "cell_type": "code",
   "execution_count": 7,
   "metadata": {},
   "outputs": [
    {
     "data": {
      "text/html": [
       "<div>\n",
       "<style scoped>\n",
       "    .dataframe tbody tr th:only-of-type {\n",
       "        vertical-align: middle;\n",
       "    }\n",
       "\n",
       "    .dataframe tbody tr th {\n",
       "        vertical-align: top;\n",
       "    }\n",
       "\n",
       "    .dataframe thead th {\n",
       "        text-align: right;\n",
       "    }\n",
       "</style>\n",
       "<table border=\"1\" class=\"dataframe\">\n",
       "  <thead>\n",
       "    <tr style=\"text-align: right;\">\n",
       "      <th></th>\n",
       "      <th>구별</th>\n",
       "      <th>한국인</th>\n",
       "      <th>한국인남자</th>\n",
       "      <th>한국인여자</th>\n",
       "      <th>외국인</th>\n",
       "      <th>외국인남자</th>\n",
       "      <th>외국인여자</th>\n",
       "    </tr>\n",
       "  </thead>\n",
       "  <tbody>\n",
       "    <tr>\n",
       "      <th>0</th>\n",
       "      <td>자치구</td>\n",
       "      <td>한국인</td>\n",
       "      <td>한국인</td>\n",
       "      <td>한국인</td>\n",
       "      <td>등록외국인</td>\n",
       "      <td>등록외국인</td>\n",
       "      <td>등록외국인</td>\n",
       "    </tr>\n",
       "    <tr>\n",
       "      <th>1</th>\n",
       "      <td>자치구</td>\n",
       "      <td>계</td>\n",
       "      <td>남자</td>\n",
       "      <td>여자</td>\n",
       "      <td>계</td>\n",
       "      <td>남자</td>\n",
       "      <td>여자</td>\n",
       "    </tr>\n",
       "    <tr>\n",
       "      <th>2</th>\n",
       "      <td>합계</td>\n",
       "      <td>9926968</td>\n",
       "      <td>4871560</td>\n",
       "      <td>5055408</td>\n",
       "      <td>270636</td>\n",
       "      <td>128445</td>\n",
       "      <td>142191</td>\n",
       "    </tr>\n",
       "    <tr>\n",
       "      <th>3</th>\n",
       "      <td>종로구</td>\n",
       "      <td>153589</td>\n",
       "      <td>75611</td>\n",
       "      <td>77978</td>\n",
       "      <td>9231</td>\n",
       "      <td>4064</td>\n",
       "      <td>5167</td>\n",
       "    </tr>\n",
       "    <tr>\n",
       "      <th>4</th>\n",
       "      <td>중구</td>\n",
       "      <td>124312</td>\n",
       "      <td>61656</td>\n",
       "      <td>62656</td>\n",
       "      <td>8928</td>\n",
       "      <td>4134</td>\n",
       "      <td>4794</td>\n",
       "    </tr>\n",
       "  </tbody>\n",
       "</table>\n",
       "</div>"
      ],
      "text/plain": [
       "    구별      한국인    한국인남자    한국인여자     외국인   외국인남자   외국인여자\n",
       "0  자치구      한국인      한국인      한국인   등록외국인   등록외국인   등록외국인\n",
       "1  자치구        계       남자       여자       계      남자      여자\n",
       "2   합계  9926968  4871560  5055408  270636  128445  142191\n",
       "3  종로구   153589    75611    77978    9231    4064    5167\n",
       "4   중구   124312    61656    62656    8928    4134    4794"
      ]
     },
     "execution_count": 7,
     "metadata": {},
     "output_type": "execute_result"
    }
   ],
   "source": [
    "pop_Seoul.head()"
   ]
  },
  {
   "cell_type": "code",
   "execution_count": 8,
   "metadata": {},
   "outputs": [],
   "source": [
    "pop_Seoul.drop([0,1,2], inplace=True)"
   ]
  },
  {
   "cell_type": "code",
   "execution_count": 9,
   "metadata": {},
   "outputs": [
    {
     "data": {
      "text/html": [
       "<div>\n",
       "<style scoped>\n",
       "    .dataframe tbody tr th:only-of-type {\n",
       "        vertical-align: middle;\n",
       "    }\n",
       "\n",
       "    .dataframe tbody tr th {\n",
       "        vertical-align: top;\n",
       "    }\n",
       "\n",
       "    .dataframe thead th {\n",
       "        text-align: right;\n",
       "    }\n",
       "</style>\n",
       "<table border=\"1\" class=\"dataframe\">\n",
       "  <thead>\n",
       "    <tr style=\"text-align: right;\">\n",
       "      <th></th>\n",
       "      <th>구별</th>\n",
       "      <th>한국인</th>\n",
       "      <th>한국인남자</th>\n",
       "      <th>한국인여자</th>\n",
       "      <th>외국인</th>\n",
       "      <th>외국인남자</th>\n",
       "      <th>외국인여자</th>\n",
       "    </tr>\n",
       "  </thead>\n",
       "  <tbody>\n",
       "    <tr>\n",
       "      <th>3</th>\n",
       "      <td>종로구</td>\n",
       "      <td>153589</td>\n",
       "      <td>75611</td>\n",
       "      <td>77978</td>\n",
       "      <td>9231</td>\n",
       "      <td>4064</td>\n",
       "      <td>5167</td>\n",
       "    </tr>\n",
       "    <tr>\n",
       "      <th>4</th>\n",
       "      <td>중구</td>\n",
       "      <td>124312</td>\n",
       "      <td>61656</td>\n",
       "      <td>62656</td>\n",
       "      <td>8928</td>\n",
       "      <td>4134</td>\n",
       "      <td>4794</td>\n",
       "    </tr>\n",
       "    <tr>\n",
       "      <th>5</th>\n",
       "      <td>용산구</td>\n",
       "      <td>229456</td>\n",
       "      <td>111167</td>\n",
       "      <td>118289</td>\n",
       "      <td>14747</td>\n",
       "      <td>7965</td>\n",
       "      <td>6782</td>\n",
       "    </tr>\n",
       "    <tr>\n",
       "      <th>6</th>\n",
       "      <td>성동구</td>\n",
       "      <td>303380</td>\n",
       "      <td>150076</td>\n",
       "      <td>153304</td>\n",
       "      <td>7864</td>\n",
       "      <td>3692</td>\n",
       "      <td>4172</td>\n",
       "    </tr>\n",
       "    <tr>\n",
       "      <th>7</th>\n",
       "      <td>광진구</td>\n",
       "      <td>357211</td>\n",
       "      <td>174599</td>\n",
       "      <td>182612</td>\n",
       "      <td>14953</td>\n",
       "      <td>6393</td>\n",
       "      <td>8560</td>\n",
       "    </tr>\n",
       "  </tbody>\n",
       "</table>\n",
       "</div>"
      ],
      "text/plain": [
       "    구별     한국인   한국인남자   한국인여자    외국인 외국인남자 외국인여자\n",
       "3  종로구  153589   75611   77978   9231  4064  5167\n",
       "4   중구  124312   61656   62656   8928  4134  4794\n",
       "5  용산구  229456  111167  118289  14747  7965  6782\n",
       "6  성동구  303380  150076  153304   7864  3692  4172\n",
       "7  광진구  357211  174599  182612  14953  6393  8560"
      ]
     },
     "execution_count": 9,
     "metadata": {},
     "output_type": "execute_result"
    }
   ],
   "source": [
    "pop_Seoul.head()"
   ]
  },
  {
   "cell_type": "code",
   "execution_count": 10,
   "metadata": {},
   "outputs": [
    {
     "data": {
      "text/plain": [
       "26"
      ]
     },
     "execution_count": 10,
     "metadata": {},
     "output_type": "execute_result"
    }
   ],
   "source": [
    "len(pop_Seoul['구별'].unique())"
   ]
  },
  {
   "cell_type": "code",
   "execution_count": 11,
   "metadata": {},
   "outputs": [
    {
     "data": {
      "text/html": [
       "<div>\n",
       "<style scoped>\n",
       "    .dataframe tbody tr th:only-of-type {\n",
       "        vertical-align: middle;\n",
       "    }\n",
       "\n",
       "    .dataframe tbody tr th {\n",
       "        vertical-align: top;\n",
       "    }\n",
       "\n",
       "    .dataframe thead th {\n",
       "        text-align: right;\n",
       "    }\n",
       "</style>\n",
       "<table border=\"1\" class=\"dataframe\">\n",
       "  <thead>\n",
       "    <tr style=\"text-align: right;\">\n",
       "      <th></th>\n",
       "      <th>구별</th>\n",
       "      <th>한국인</th>\n",
       "      <th>한국인남자</th>\n",
       "      <th>한국인여자</th>\n",
       "      <th>외국인</th>\n",
       "      <th>외국인남자</th>\n",
       "      <th>외국인여자</th>\n",
       "    </tr>\n",
       "  </thead>\n",
       "  <tbody>\n",
       "    <tr>\n",
       "      <th>28</th>\n",
       "      <td>NaN</td>\n",
       "      <td>NaN</td>\n",
       "      <td>NaN</td>\n",
       "      <td>NaN</td>\n",
       "      <td>NaN</td>\n",
       "      <td>NaN</td>\n",
       "      <td>NaN</td>\n",
       "    </tr>\n",
       "  </tbody>\n",
       "</table>\n",
       "</div>"
      ],
      "text/plain": [
       "     구별  한국인 한국인남자 한국인여자  외국인 외국인남자 외국인여자\n",
       "28  NaN  NaN   NaN   NaN  NaN   NaN   NaN"
      ]
     },
     "execution_count": 11,
     "metadata": {},
     "output_type": "execute_result"
    }
   ],
   "source": [
    "pop_Seoul[pop_Seoul['구별'].isnull()]"
   ]
  },
  {
   "cell_type": "code",
   "execution_count": 12,
   "metadata": {},
   "outputs": [
    {
     "data": {
      "text/html": [
       "<div>\n",
       "<style scoped>\n",
       "    .dataframe tbody tr th:only-of-type {\n",
       "        vertical-align: middle;\n",
       "    }\n",
       "\n",
       "    .dataframe tbody tr th {\n",
       "        vertical-align: top;\n",
       "    }\n",
       "\n",
       "    .dataframe thead th {\n",
       "        text-align: right;\n",
       "    }\n",
       "</style>\n",
       "<table border=\"1\" class=\"dataframe\">\n",
       "  <thead>\n",
       "    <tr style=\"text-align: right;\">\n",
       "      <th></th>\n",
       "      <th>구별</th>\n",
       "      <th>한국인</th>\n",
       "      <th>한국인남자</th>\n",
       "      <th>한국인여자</th>\n",
       "      <th>외국인</th>\n",
       "      <th>외국인남자</th>\n",
       "      <th>외국인여자</th>\n",
       "    </tr>\n",
       "  </thead>\n",
       "  <tbody>\n",
       "    <tr>\n",
       "      <th>3</th>\n",
       "      <td>종로구</td>\n",
       "      <td>153589</td>\n",
       "      <td>75611</td>\n",
       "      <td>77978</td>\n",
       "      <td>9231</td>\n",
       "      <td>4064</td>\n",
       "      <td>5167</td>\n",
       "    </tr>\n",
       "    <tr>\n",
       "      <th>4</th>\n",
       "      <td>중구</td>\n",
       "      <td>124312</td>\n",
       "      <td>61656</td>\n",
       "      <td>62656</td>\n",
       "      <td>8928</td>\n",
       "      <td>4134</td>\n",
       "      <td>4794</td>\n",
       "    </tr>\n",
       "    <tr>\n",
       "      <th>5</th>\n",
       "      <td>용산구</td>\n",
       "      <td>229456</td>\n",
       "      <td>111167</td>\n",
       "      <td>118289</td>\n",
       "      <td>14747</td>\n",
       "      <td>7965</td>\n",
       "      <td>6782</td>\n",
       "    </tr>\n",
       "    <tr>\n",
       "      <th>6</th>\n",
       "      <td>성동구</td>\n",
       "      <td>303380</td>\n",
       "      <td>150076</td>\n",
       "      <td>153304</td>\n",
       "      <td>7864</td>\n",
       "      <td>3692</td>\n",
       "      <td>4172</td>\n",
       "    </tr>\n",
       "    <tr>\n",
       "      <th>7</th>\n",
       "      <td>광진구</td>\n",
       "      <td>357211</td>\n",
       "      <td>174599</td>\n",
       "      <td>182612</td>\n",
       "      <td>14953</td>\n",
       "      <td>6393</td>\n",
       "      <td>8560</td>\n",
       "    </tr>\n",
       "  </tbody>\n",
       "</table>\n",
       "</div>"
      ],
      "text/plain": [
       "    구별     한국인   한국인남자   한국인여자    외국인 외국인남자 외국인여자\n",
       "3  종로구  153589   75611   77978   9231  4064  5167\n",
       "4   중구  124312   61656   62656   8928  4134  4794\n",
       "5  용산구  229456  111167  118289  14747  7965  6782\n",
       "6  성동구  303380  150076  153304   7864  3692  4172\n",
       "7  광진구  357211  174599  182612  14953  6393  8560"
      ]
     },
     "execution_count": 12,
     "metadata": {},
     "output_type": "execute_result"
    }
   ],
   "source": [
    "pop_Seoul.drop([26], inplace=True)\n",
    "pop_Seoul.head()"
   ]
  },
  {
   "cell_type": "code",
   "execution_count": 14,
   "metadata": {},
   "outputs": [
    {
     "data": {
      "text/plain": [
       "array(['종로구', '중구', '용산구', '성동구', '광진구', '동대문구', '중랑구', '성북구', '강북구',\n",
       "       '도봉구', '노원구', '은평구', '서대문구', '마포구', '양천구', '강서구', '구로구', '금천구',\n",
       "       '영등포구', '동작구', '관악구', '서초구', '강남구', '강동구', nan], dtype=object)"
      ]
     },
     "execution_count": 14,
     "metadata": {},
     "output_type": "execute_result"
    }
   ],
   "source": [
    "pop_Seoul['구별'].unique()"
   ]
  },
  {
   "cell_type": "code",
   "execution_count": 16,
   "metadata": {},
   "outputs": [
    {
     "data": {
      "text/plain": [
       "25"
      ]
     },
     "execution_count": 16,
     "metadata": {},
     "output_type": "execute_result"
    }
   ],
   "source": [
    "len(pop_Seoul['구별'].unique())"
   ]
  },
  {
   "cell_type": "markdown",
   "metadata": {},
   "source": [
    "### 1. 외국인\n",
    "#### 1-1. 외국인 남자\n",
    "각 구별로 외국인 남자 명수를 내림차순으로 정렬하였다."
   ]
  },
  {
   "cell_type": "code",
   "execution_count": 18,
   "metadata": {},
   "outputs": [
    {
     "data": {
      "text/html": [
       "<div>\n",
       "<style scoped>\n",
       "    .dataframe tbody tr th:only-of-type {\n",
       "        vertical-align: middle;\n",
       "    }\n",
       "\n",
       "    .dataframe tbody tr th {\n",
       "        vertical-align: top;\n",
       "    }\n",
       "\n",
       "    .dataframe thead th {\n",
       "        text-align: right;\n",
       "    }\n",
       "</style>\n",
       "<table border=\"1\" class=\"dataframe\">\n",
       "  <thead>\n",
       "    <tr style=\"text-align: right;\">\n",
       "      <th></th>\n",
       "      <th>구별</th>\n",
       "      <th>한국인</th>\n",
       "      <th>한국인남자</th>\n",
       "      <th>한국인여자</th>\n",
       "      <th>외국인</th>\n",
       "      <th>외국인남자</th>\n",
       "      <th>외국인여자</th>\n",
       "    </tr>\n",
       "  </thead>\n",
       "  <tbody>\n",
       "    <tr>\n",
       "      <th>21</th>\n",
       "      <td>영등포구</td>\n",
       "      <td>368072</td>\n",
       "      <td>183705</td>\n",
       "      <td>184367</td>\n",
       "      <td>34913</td>\n",
       "      <td>18868</td>\n",
       "      <td>16045</td>\n",
       "    </tr>\n",
       "    <tr>\n",
       "      <th>19</th>\n",
       "      <td>구로구</td>\n",
       "      <td>416487</td>\n",
       "      <td>207114</td>\n",
       "      <td>209373</td>\n",
       "      <td>31387</td>\n",
       "      <td>17322</td>\n",
       "      <td>14065</td>\n",
       "    </tr>\n",
       "    <tr>\n",
       "      <th>20</th>\n",
       "      <td>금천구</td>\n",
       "      <td>236353</td>\n",
       "      <td>120334</td>\n",
       "      <td>116019</td>\n",
       "      <td>18729</td>\n",
       "      <td>10224</td>\n",
       "      <td>8505</td>\n",
       "    </tr>\n",
       "    <tr>\n",
       "      <th>23</th>\n",
       "      <td>관악구</td>\n",
       "      <td>507203</td>\n",
       "      <td>256090</td>\n",
       "      <td>251113</td>\n",
       "      <td>18312</td>\n",
       "      <td>8673</td>\n",
       "      <td>9639</td>\n",
       "    </tr>\n",
       "    <tr>\n",
       "      <th>5</th>\n",
       "      <td>용산구</td>\n",
       "      <td>229456</td>\n",
       "      <td>111167</td>\n",
       "      <td>118289</td>\n",
       "      <td>14747</td>\n",
       "      <td>7965</td>\n",
       "      <td>6782</td>\n",
       "    </tr>\n",
       "  </tbody>\n",
       "</table>\n",
       "</div>"
      ],
      "text/plain": [
       "      구별     한국인   한국인남자   한국인여자    외국인  외국인남자  외국인여자\n",
       "21  영등포구  368072  183705  184367  34913  18868  16045\n",
       "19   구로구  416487  207114  209373  31387  17322  14065\n",
       "20   금천구  236353  120334  116019  18729  10224   8505\n",
       "23   관악구  507203  256090  251113  18312   8673   9639\n",
       "5    용산구  229456  111167  118289  14747   7965   6782"
      ]
     },
     "execution_count": 18,
     "metadata": {},
     "output_type": "execute_result"
    }
   ],
   "source": [
    "pop_Seoul.sort_values(by='외국인남자', ascending=False).head()"
   ]
  },
  {
   "cell_type": "markdown",
   "metadata": {},
   "source": [
    "#### 1-2. 외국인 여자\n",
    "각 구별로 외국인 여자 명수를 내림차순으로 정렬하였다."
   ]
  },
  {
   "cell_type": "code",
   "execution_count": 19,
   "metadata": {},
   "outputs": [
    {
     "data": {
      "text/html": [
       "<div>\n",
       "<style scoped>\n",
       "    .dataframe tbody tr th:only-of-type {\n",
       "        vertical-align: middle;\n",
       "    }\n",
       "\n",
       "    .dataframe tbody tr th {\n",
       "        vertical-align: top;\n",
       "    }\n",
       "\n",
       "    .dataframe thead th {\n",
       "        text-align: right;\n",
       "    }\n",
       "</style>\n",
       "<table border=\"1\" class=\"dataframe\">\n",
       "  <thead>\n",
       "    <tr style=\"text-align: right;\">\n",
       "      <th></th>\n",
       "      <th>구별</th>\n",
       "      <th>한국인</th>\n",
       "      <th>한국인남자</th>\n",
       "      <th>한국인여자</th>\n",
       "      <th>외국인</th>\n",
       "      <th>외국인남자</th>\n",
       "      <th>외국인여자</th>\n",
       "    </tr>\n",
       "  </thead>\n",
       "  <tbody>\n",
       "    <tr>\n",
       "      <th>21</th>\n",
       "      <td>영등포구</td>\n",
       "      <td>368072</td>\n",
       "      <td>183705</td>\n",
       "      <td>184367</td>\n",
       "      <td>34913</td>\n",
       "      <td>18868</td>\n",
       "      <td>16045</td>\n",
       "    </tr>\n",
       "    <tr>\n",
       "      <th>19</th>\n",
       "      <td>구로구</td>\n",
       "      <td>416487</td>\n",
       "      <td>207114</td>\n",
       "      <td>209373</td>\n",
       "      <td>31387</td>\n",
       "      <td>17322</td>\n",
       "      <td>14065</td>\n",
       "    </tr>\n",
       "    <tr>\n",
       "      <th>23</th>\n",
       "      <td>관악구</td>\n",
       "      <td>507203</td>\n",
       "      <td>256090</td>\n",
       "      <td>251113</td>\n",
       "      <td>18312</td>\n",
       "      <td>8673</td>\n",
       "      <td>9639</td>\n",
       "    </tr>\n",
       "    <tr>\n",
       "      <th>8</th>\n",
       "      <td>동대문구</td>\n",
       "      <td>354079</td>\n",
       "      <td>177021</td>\n",
       "      <td>177058</td>\n",
       "      <td>15417</td>\n",
       "      <td>5911</td>\n",
       "      <td>9506</td>\n",
       "    </tr>\n",
       "    <tr>\n",
       "      <th>7</th>\n",
       "      <td>광진구</td>\n",
       "      <td>357211</td>\n",
       "      <td>174599</td>\n",
       "      <td>182612</td>\n",
       "      <td>14953</td>\n",
       "      <td>6393</td>\n",
       "      <td>8560</td>\n",
       "    </tr>\n",
       "  </tbody>\n",
       "</table>\n",
       "</div>"
      ],
      "text/plain": [
       "      구별     한국인   한국인남자   한국인여자    외국인  외국인남자  외국인여자\n",
       "21  영등포구  368072  183705  184367  34913  18868  16045\n",
       "19   구로구  416487  207114  209373  31387  17322  14065\n",
       "23   관악구  507203  256090  251113  18312   8673   9639\n",
       "8   동대문구  354079  177021  177058  15417   5911   9506\n",
       "7    광진구  357211  174599  182612  14953   6393   8560"
      ]
     },
     "execution_count": 19,
     "metadata": {},
     "output_type": "execute_result"
    }
   ],
   "source": [
    "pop_Seoul.sort_values(by='외국인여자', ascending=False).head()"
   ]
  },
  {
   "cell_type": "markdown",
   "metadata": {},
   "source": [
    "### 2. 한국인\n",
    "#### 2-1. 한국인 남자\n",
    "각 구별로 한국인 남자 명수를 내림차순으로 정렬하였다."
   ]
  },
  {
   "cell_type": "code",
   "execution_count": 20,
   "metadata": {},
   "outputs": [
    {
     "data": {
      "text/html": [
       "<div>\n",
       "<style scoped>\n",
       "    .dataframe tbody tr th:only-of-type {\n",
       "        vertical-align: middle;\n",
       "    }\n",
       "\n",
       "    .dataframe tbody tr th {\n",
       "        vertical-align: top;\n",
       "    }\n",
       "\n",
       "    .dataframe thead th {\n",
       "        text-align: right;\n",
       "    }\n",
       "</style>\n",
       "<table border=\"1\" class=\"dataframe\">\n",
       "  <thead>\n",
       "    <tr style=\"text-align: right;\">\n",
       "      <th></th>\n",
       "      <th>구별</th>\n",
       "      <th>한국인</th>\n",
       "      <th>한국인남자</th>\n",
       "      <th>한국인여자</th>\n",
       "      <th>외국인</th>\n",
       "      <th>외국인남자</th>\n",
       "      <th>외국인여자</th>\n",
       "    </tr>\n",
       "  </thead>\n",
       "  <tbody>\n",
       "    <tr>\n",
       "      <th>18</th>\n",
       "      <td>강서구</td>\n",
       "      <td>597248</td>\n",
       "      <td>291249</td>\n",
       "      <td>305999</td>\n",
       "      <td>6524</td>\n",
       "      <td>3184</td>\n",
       "      <td>3340</td>\n",
       "    </tr>\n",
       "    <tr>\n",
       "      <th>13</th>\n",
       "      <td>노원구</td>\n",
       "      <td>565565</td>\n",
       "      <td>275211</td>\n",
       "      <td>290354</td>\n",
       "      <td>3819</td>\n",
       "      <td>1612</td>\n",
       "      <td>2207</td>\n",
       "    </tr>\n",
       "    <tr>\n",
       "      <th>25</th>\n",
       "      <td>강남구</td>\n",
       "      <td>565550</td>\n",
       "      <td>270726</td>\n",
       "      <td>294824</td>\n",
       "      <td>4950</td>\n",
       "      <td>2575</td>\n",
       "      <td>2375</td>\n",
       "    </tr>\n",
       "    <tr>\n",
       "      <th>23</th>\n",
       "      <td>관악구</td>\n",
       "      <td>507203</td>\n",
       "      <td>256090</td>\n",
       "      <td>251113</td>\n",
       "      <td>18312</td>\n",
       "      <td>8673</td>\n",
       "      <td>9639</td>\n",
       "    </tr>\n",
       "    <tr>\n",
       "      <th>14</th>\n",
       "      <td>은평구</td>\n",
       "      <td>489943</td>\n",
       "      <td>238337</td>\n",
       "      <td>251606</td>\n",
       "      <td>4445</td>\n",
       "      <td>1883</td>\n",
       "      <td>2562</td>\n",
       "    </tr>\n",
       "  </tbody>\n",
       "</table>\n",
       "</div>"
      ],
      "text/plain": [
       "     구별     한국인   한국인남자   한국인여자    외국인 외국인남자 외국인여자\n",
       "18  강서구  597248  291249  305999   6524  3184  3340\n",
       "13  노원구  565565  275211  290354   3819  1612  2207\n",
       "25  강남구  565550  270726  294824   4950  2575  2375\n",
       "23  관악구  507203  256090  251113  18312  8673  9639\n",
       "14  은평구  489943  238337  251606   4445  1883  2562"
      ]
     },
     "execution_count": 20,
     "metadata": {},
     "output_type": "execute_result"
    }
   ],
   "source": [
    "pop_Seoul.sort_values(by='한국인남자', ascending=False).head()"
   ]
  },
  {
   "cell_type": "markdown",
   "metadata": {},
   "source": [
    "#### 2-1. 한국인 여자\n",
    "각 구별로 한국인 여자 명수를 내림차순으로 정렬하였다."
   ]
  },
  {
   "cell_type": "code",
   "execution_count": 21,
   "metadata": {},
   "outputs": [
    {
     "data": {
      "text/html": [
       "<div>\n",
       "<style scoped>\n",
       "    .dataframe tbody tr th:only-of-type {\n",
       "        vertical-align: middle;\n",
       "    }\n",
       "\n",
       "    .dataframe tbody tr th {\n",
       "        vertical-align: top;\n",
       "    }\n",
       "\n",
       "    .dataframe thead th {\n",
       "        text-align: right;\n",
       "    }\n",
       "</style>\n",
       "<table border=\"1\" class=\"dataframe\">\n",
       "  <thead>\n",
       "    <tr style=\"text-align: right;\">\n",
       "      <th></th>\n",
       "      <th>구별</th>\n",
       "      <th>한국인</th>\n",
       "      <th>한국인남자</th>\n",
       "      <th>한국인여자</th>\n",
       "      <th>외국인</th>\n",
       "      <th>외국인남자</th>\n",
       "      <th>외국인여자</th>\n",
       "    </tr>\n",
       "  </thead>\n",
       "  <tbody>\n",
       "    <tr>\n",
       "      <th>18</th>\n",
       "      <td>강서구</td>\n",
       "      <td>597248</td>\n",
       "      <td>291249</td>\n",
       "      <td>305999</td>\n",
       "      <td>6524</td>\n",
       "      <td>3184</td>\n",
       "      <td>3340</td>\n",
       "    </tr>\n",
       "    <tr>\n",
       "      <th>25</th>\n",
       "      <td>강남구</td>\n",
       "      <td>565550</td>\n",
       "      <td>270726</td>\n",
       "      <td>294824</td>\n",
       "      <td>4950</td>\n",
       "      <td>2575</td>\n",
       "      <td>2375</td>\n",
       "    </tr>\n",
       "    <tr>\n",
       "      <th>13</th>\n",
       "      <td>노원구</td>\n",
       "      <td>565565</td>\n",
       "      <td>275211</td>\n",
       "      <td>290354</td>\n",
       "      <td>3819</td>\n",
       "      <td>1612</td>\n",
       "      <td>2207</td>\n",
       "    </tr>\n",
       "    <tr>\n",
       "      <th>14</th>\n",
       "      <td>은평구</td>\n",
       "      <td>489943</td>\n",
       "      <td>238337</td>\n",
       "      <td>251606</td>\n",
       "      <td>4445</td>\n",
       "      <td>1883</td>\n",
       "      <td>2562</td>\n",
       "    </tr>\n",
       "    <tr>\n",
       "      <th>23</th>\n",
       "      <td>관악구</td>\n",
       "      <td>507203</td>\n",
       "      <td>256090</td>\n",
       "      <td>251113</td>\n",
       "      <td>18312</td>\n",
       "      <td>8673</td>\n",
       "      <td>9639</td>\n",
       "    </tr>\n",
       "  </tbody>\n",
       "</table>\n",
       "</div>"
      ],
      "text/plain": [
       "     구별     한국인   한국인남자   한국인여자    외국인 외국인남자 외국인여자\n",
       "18  강서구  597248  291249  305999   6524  3184  3340\n",
       "25  강남구  565550  270726  294824   4950  2575  2375\n",
       "13  노원구  565565  275211  290354   3819  1612  2207\n",
       "14  은평구  489943  238337  251606   4445  1883  2562\n",
       "23  관악구  507203  256090  251113  18312  8673  9639"
      ]
     },
     "execution_count": 21,
     "metadata": {},
     "output_type": "execute_result"
    }
   ],
   "source": [
    "pop_Seoul.sort_values(by='한국인여자', ascending=False).head()"
   ]
  },
  {
   "cell_type": "markdown",
   "metadata": {},
   "source": [
    "### 3. 한국인 남녀 비율 "
   ]
  },
  {
   "cell_type": "code",
   "execution_count": 25,
   "metadata": {},
   "outputs": [],
   "source": [
    "pop_Seoul = pop_Seoul[['구별','한국인','한국인남자','한국인여자']]"
   ]
  },
  {
   "cell_type": "code",
   "execution_count": 26,
   "metadata": {},
   "outputs": [
    {
     "data": {
      "text/html": [
       "<div>\n",
       "<style scoped>\n",
       "    .dataframe tbody tr th:only-of-type {\n",
       "        vertical-align: middle;\n",
       "    }\n",
       "\n",
       "    .dataframe tbody tr th {\n",
       "        vertical-align: top;\n",
       "    }\n",
       "\n",
       "    .dataframe thead th {\n",
       "        text-align: right;\n",
       "    }\n",
       "</style>\n",
       "<table border=\"1\" class=\"dataframe\">\n",
       "  <thead>\n",
       "    <tr style=\"text-align: right;\">\n",
       "      <th></th>\n",
       "      <th>구별</th>\n",
       "      <th>한국인</th>\n",
       "      <th>한국인남자</th>\n",
       "      <th>한국인여자</th>\n",
       "    </tr>\n",
       "  </thead>\n",
       "  <tbody>\n",
       "    <tr>\n",
       "      <th>3</th>\n",
       "      <td>종로구</td>\n",
       "      <td>153589</td>\n",
       "      <td>75611</td>\n",
       "      <td>77978</td>\n",
       "    </tr>\n",
       "    <tr>\n",
       "      <th>4</th>\n",
       "      <td>중구</td>\n",
       "      <td>124312</td>\n",
       "      <td>61656</td>\n",
       "      <td>62656</td>\n",
       "    </tr>\n",
       "    <tr>\n",
       "      <th>5</th>\n",
       "      <td>용산구</td>\n",
       "      <td>229456</td>\n",
       "      <td>111167</td>\n",
       "      <td>118289</td>\n",
       "    </tr>\n",
       "    <tr>\n",
       "      <th>6</th>\n",
       "      <td>성동구</td>\n",
       "      <td>303380</td>\n",
       "      <td>150076</td>\n",
       "      <td>153304</td>\n",
       "    </tr>\n",
       "    <tr>\n",
       "      <th>7</th>\n",
       "      <td>광진구</td>\n",
       "      <td>357211</td>\n",
       "      <td>174599</td>\n",
       "      <td>182612</td>\n",
       "    </tr>\n",
       "  </tbody>\n",
       "</table>\n",
       "</div>"
      ],
      "text/plain": [
       "    구별     한국인   한국인남자   한국인여자\n",
       "3  종로구  153589   75611   77978\n",
       "4   중구  124312   61656   62656\n",
       "5  용산구  229456  111167  118289\n",
       "6  성동구  303380  150076  153304\n",
       "7  광진구  357211  174599  182612"
      ]
     },
     "execution_count": 26,
     "metadata": {},
     "output_type": "execute_result"
    }
   ],
   "source": [
    "pop_Seoul.head()"
   ]
  },
  {
   "cell_type": "markdown",
   "metadata": {},
   "source": [
    "#### 3-1. 한국인 남자 비율 \n",
    "각 구별로 한국인 중 남자 명수의 비율을 구해 내림차순 정렬하였다."
   ]
  },
  {
   "cell_type": "code",
   "execution_count": 27,
   "metadata": {},
   "outputs": [],
   "source": [
    "pop_Seoul['한국인남자비율'] = pop_Seoul['한국인남자'] / pop_Seoul['한국인'] * 100"
   ]
  },
  {
   "cell_type": "code",
   "execution_count": 28,
   "metadata": {},
   "outputs": [
    {
     "data": {
      "text/html": [
       "<div>\n",
       "<style scoped>\n",
       "    .dataframe tbody tr th:only-of-type {\n",
       "        vertical-align: middle;\n",
       "    }\n",
       "\n",
       "    .dataframe tbody tr th {\n",
       "        vertical-align: top;\n",
       "    }\n",
       "\n",
       "    .dataframe thead th {\n",
       "        text-align: right;\n",
       "    }\n",
       "</style>\n",
       "<table border=\"1\" class=\"dataframe\">\n",
       "  <thead>\n",
       "    <tr style=\"text-align: right;\">\n",
       "      <th></th>\n",
       "      <th>구별</th>\n",
       "      <th>한국인</th>\n",
       "      <th>한국인남자</th>\n",
       "      <th>한국인여자</th>\n",
       "      <th>한국인남자비율</th>\n",
       "    </tr>\n",
       "  </thead>\n",
       "  <tbody>\n",
       "    <tr>\n",
       "      <th>20</th>\n",
       "      <td>금천구</td>\n",
       "      <td>236353</td>\n",
       "      <td>120334</td>\n",
       "      <td>116019</td>\n",
       "      <td>50.9128</td>\n",
       "    </tr>\n",
       "    <tr>\n",
       "      <th>23</th>\n",
       "      <td>관악구</td>\n",
       "      <td>507203</td>\n",
       "      <td>256090</td>\n",
       "      <td>251113</td>\n",
       "      <td>50.4906</td>\n",
       "    </tr>\n",
       "    <tr>\n",
       "      <th>8</th>\n",
       "      <td>동대문구</td>\n",
       "      <td>354079</td>\n",
       "      <td>177021</td>\n",
       "      <td>177058</td>\n",
       "      <td>49.9948</td>\n",
       "    </tr>\n",
       "    <tr>\n",
       "      <th>21</th>\n",
       "      <td>영등포구</td>\n",
       "      <td>368072</td>\n",
       "      <td>183705</td>\n",
       "      <td>184367</td>\n",
       "      <td>49.9101</td>\n",
       "    </tr>\n",
       "    <tr>\n",
       "      <th>9</th>\n",
       "      <td>중랑구</td>\n",
       "      <td>409882</td>\n",
       "      <td>204265</td>\n",
       "      <td>205617</td>\n",
       "      <td>49.8351</td>\n",
       "    </tr>\n",
       "  </tbody>\n",
       "</table>\n",
       "</div>"
      ],
      "text/plain": [
       "      구별     한국인   한국인남자   한국인여자  한국인남자비율\n",
       "20   금천구  236353  120334  116019  50.9128\n",
       "23   관악구  507203  256090  251113  50.4906\n",
       "8   동대문구  354079  177021  177058  49.9948\n",
       "21  영등포구  368072  183705  184367  49.9101\n",
       "9    중랑구  409882  204265  205617  49.8351"
      ]
     },
     "execution_count": 28,
     "metadata": {},
     "output_type": "execute_result"
    }
   ],
   "source": [
    "pop_Seoul.sort_values(by='한국인남자비율', ascending=False).head()"
   ]
  },
  {
   "cell_type": "markdown",
   "metadata": {},
   "source": [
    "#### 3-2. 한국인 여자 비율\n",
    "각 구별로 한국인 중 여자 명수의 비율을 구해 내림차순 정렬하였다."
   ]
  },
  {
   "cell_type": "code",
   "execution_count": 29,
   "metadata": {},
   "outputs": [],
   "source": [
    "pop_Seoul['한국인여자비율'] = pop_Seoul['한국인여자'] / pop_Seoul['한국인'] * 100"
   ]
  },
  {
   "cell_type": "code",
   "execution_count": 30,
   "metadata": {},
   "outputs": [
    {
     "data": {
      "text/html": [
       "<div>\n",
       "<style scoped>\n",
       "    .dataframe tbody tr th:only-of-type {\n",
       "        vertical-align: middle;\n",
       "    }\n",
       "\n",
       "    .dataframe tbody tr th {\n",
       "        vertical-align: top;\n",
       "    }\n",
       "\n",
       "    .dataframe thead th {\n",
       "        text-align: right;\n",
       "    }\n",
       "</style>\n",
       "<table border=\"1\" class=\"dataframe\">\n",
       "  <thead>\n",
       "    <tr style=\"text-align: right;\">\n",
       "      <th></th>\n",
       "      <th>구별</th>\n",
       "      <th>한국인</th>\n",
       "      <th>한국인남자</th>\n",
       "      <th>한국인여자</th>\n",
       "      <th>한국인남자비율</th>\n",
       "      <th>한국인여자비율</th>\n",
       "    </tr>\n",
       "  </thead>\n",
       "  <tbody>\n",
       "    <tr>\n",
       "      <th>25</th>\n",
       "      <td>강남구</td>\n",
       "      <td>565550</td>\n",
       "      <td>270726</td>\n",
       "      <td>294824</td>\n",
       "      <td>47.8695</td>\n",
       "      <td>52.1305</td>\n",
       "    </tr>\n",
       "    <tr>\n",
       "      <th>16</th>\n",
       "      <td>마포구</td>\n",
       "      <td>378566</td>\n",
       "      <td>181346</td>\n",
       "      <td>197220</td>\n",
       "      <td>47.9034</td>\n",
       "      <td>52.0966</td>\n",
       "    </tr>\n",
       "    <tr>\n",
       "      <th>24</th>\n",
       "      <td>서초구</td>\n",
       "      <td>445994</td>\n",
       "      <td>214036</td>\n",
       "      <td>231958</td>\n",
       "      <td>47.9908</td>\n",
       "      <td>52.0092</td>\n",
       "    </tr>\n",
       "    <tr>\n",
       "      <th>5</th>\n",
       "      <td>용산구</td>\n",
       "      <td>229456</td>\n",
       "      <td>111167</td>\n",
       "      <td>118289</td>\n",
       "      <td>48.4481</td>\n",
       "      <td>51.5519</td>\n",
       "    </tr>\n",
       "    <tr>\n",
       "      <th>15</th>\n",
       "      <td>서대문구</td>\n",
       "      <td>314982</td>\n",
       "      <td>152613</td>\n",
       "      <td>162369</td>\n",
       "      <td>48.4513</td>\n",
       "      <td>51.5487</td>\n",
       "    </tr>\n",
       "  </tbody>\n",
       "</table>\n",
       "</div>"
      ],
      "text/plain": [
       "      구별     한국인   한국인남자   한국인여자  한국인남자비율  한국인여자비율\n",
       "25   강남구  565550  270726  294824  47.8695  52.1305\n",
       "16   마포구  378566  181346  197220  47.9034  52.0966\n",
       "24   서초구  445994  214036  231958  47.9908  52.0092\n",
       "5    용산구  229456  111167  118289  48.4481  51.5519\n",
       "15  서대문구  314982  152613  162369  48.4513  51.5487"
      ]
     },
     "execution_count": 30,
     "metadata": {},
     "output_type": "execute_result"
    }
   ],
   "source": [
    "pop_Seoul.sort_values(by='한국인여자비율', ascending=False).head()"
   ]
  },
  {
   "cell_type": "code",
   "execution_count": null,
   "metadata": {},
   "outputs": [],
   "source": []
  }
 ],
 "metadata": {
  "kernelspec": {
   "display_name": "Python 3",
   "language": "python",
   "name": "python3"
  },
  "language_info": {
   "codemirror_mode": {
    "name": "ipython",
    "version": 3
   },
   "file_extension": ".py",
   "mimetype": "text/x-python",
   "name": "python",
   "nbconvert_exporter": "python",
   "pygments_lexer": "ipython3",
   "version": "3.7.6"
  }
 },
 "nbformat": 4,
 "nbformat_minor": 4
}
